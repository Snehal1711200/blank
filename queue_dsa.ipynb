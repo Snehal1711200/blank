{
  "nbformat": 4,
  "nbformat_minor": 0,
  "metadata": {
    "colab": {
      "provenance": [],
      "authorship_tag": "ABX9TyOQ8Zu2C/siXkWXiJ+Lxj0W",
      "include_colab_link": true
    },
    "kernelspec": {
      "name": "python3",
      "display_name": "Python 3"
    },
    "language_info": {
      "name": "python"
    }
  },
  "cells": [
    {
      "cell_type": "markdown",
      "metadata": {
        "id": "view-in-github",
        "colab_type": "text"
      },
      "source": [
        "<a href=\"https://colab.research.google.com/github/Snehal1711200/blank/blob/main/queue_dsa.ipynb\" target=\"_parent\"><img src=\"https://colab.research.google.com/assets/colab-badge.svg\" alt=\"Open In Colab\"/></a>"
      ]
    },
    {
      "cell_type": "code",
      "execution_count": 12,
      "metadata": {
        "id": "G7cldj0Bmh6H"
      },
      "outputs": [],
      "source": [
        "###constructing queue using array\n",
        "class queue:\n",
        "  def __init__(self, capacity):\n",
        "    self.capacity = capacity\n",
        "    self.front = -1\n",
        "    self.rear = -1\n",
        "    self.arr = [None]*capacity\n",
        "    self.size =0\n",
        "\n",
        "  def is_empty(self):\n",
        "    return self.front==-1\n",
        "\n",
        "  def is_full(self):\n",
        "    return (self.front+1)%self.capacity == self.rear\n",
        "\n",
        "  def enqueue(self, data):\n",
        "    if self.is_full():\n",
        "      print('queue overflow')\n",
        "      return\n",
        "    self.front =(self.front+1)%self.capacity\n",
        "    self.arr[self.front]= data\n",
        "    self.front+=1\n",
        "    if self.rear ==-1:\n",
        "      self.rear+=1\n",
        "    self.size+=1\n",
        "\n",
        "  def dequeue(self):\n",
        "    if self.is_empty():\n",
        "      print('queue underflow')\n",
        "      return\n",
        "    data = self.arr[self.rear]\n",
        "    self.arr[self.rear] = None\n",
        "\n",
        "    if self.front == self.rear:\n",
        "      self.rear =-1\n",
        "      self.front =-1\n",
        "    else:\n",
        "      self.rear = (self.rear+1)%self.capacity\n",
        "    self.size-=1\n",
        "    return data\n",
        "\n",
        "  def traverse(self):\n",
        "    for i in range(self.size):\n",
        "      print(self.arr[(self.rear+i)%self.capacity], end=',')\n",
        "\n",
        "  def length(self):\n",
        "   return self.size"
      ]
    },
    {
      "cell_type": "code",
      "source": [
        "q= queue(3)"
      ],
      "metadata": {
        "id": "F7kQvi1PAWVh"
      },
      "execution_count": 19,
      "outputs": []
    },
    {
      "cell_type": "code",
      "source": [
        "q.traverse()"
      ],
      "metadata": {
        "id": "uwcum1w5A9VP"
      },
      "execution_count": 20,
      "outputs": []
    },
    {
      "cell_type": "code",
      "source": [
        "q.enqueue(3)\n",
        "q.enqueue(5)\n",
        "q.enqueue(8)"
      ],
      "metadata": {
        "id": "1ezQwf_NBBQY"
      },
      "execution_count": 21,
      "outputs": []
    },
    {
      "cell_type": "code",
      "source": [
        "q.traverse()"
      ],
      "metadata": {
        "id": "9e1EYKehBMrz",
        "outputId": "ba693855-1999-48e5-c969-0f8c9fb42331",
        "colab": {
          "base_uri": "https://localhost:8080/"
        }
      },
      "execution_count": 22,
      "outputs": [
        {
          "output_type": "stream",
          "name": "stdout",
          "text": [
            "3,8,5,"
          ]
        }
      ]
    },
    {
      "cell_type": "code",
      "source": [
        "q.dequeue()"
      ],
      "metadata": {
        "id": "mSLsTq0CBj0F",
        "outputId": "99b0a930-a697-4de5-e156-c2997a3355ba",
        "colab": {
          "base_uri": "https://localhost:8080/"
        }
      },
      "execution_count": 23,
      "outputs": [
        {
          "output_type": "execute_result",
          "data": {
            "text/plain": [
              "3"
            ]
          },
          "metadata": {},
          "execution_count": 23
        }
      ]
    },
    {
      "cell_type": "code",
      "source": [
        "q.traverse()"
      ],
      "metadata": {
        "id": "ZK5sEkEaC4AF",
        "outputId": "c919a23b-ac7d-4fa6-9161-0a366dc09934",
        "colab": {
          "base_uri": "https://localhost:8080/"
        }
      },
      "execution_count": 24,
      "outputs": [
        {
          "output_type": "stream",
          "name": "stdout",
          "text": [
            "8,5,"
          ]
        }
      ]
    },
    {
      "cell_type": "code",
      "source": [
        "### constructing queue using linked list\n",
        "class node:\n",
        "  def __int__(self,data=None, next= None):\n",
        "    self."
      ],
      "metadata": {
        "id": "SFOcLLsUC8TG"
      },
      "execution_count": null,
      "outputs": []
    }
  ]
}